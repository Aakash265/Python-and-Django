{
 "cells": [
  {
   "cell_type": "code",
   "execution_count": 1,
   "id": "c2d99077",
   "metadata": {},
   "outputs": [],
   "source": [
    "# QUESTION 1 "
   ]
  },
  {
   "cell_type": "code",
   "execution_count": 102,
   "id": "12b6a852",
   "metadata": {},
   "outputs": [
    {
     "name": "stdout",
     "output_type": "stream",
     "text": [
      "Length of string: 23\n",
      "['Hey', 'i', 'am', 'from', 'New', 'Delhi']\n"
     ]
    }
   ],
   "source": [
    "s = \"Hey i am from New Delhi\"\n",
    "\n",
    "print(\"Length of string:\", len(s))\n",
    "print(s.split())"
   ]
  },
  {
   "cell_type": "code",
   "execution_count": null,
   "id": "9ad7de1c",
   "metadata": {},
   "outputs": [],
   "source": []
  },
  {
   "cell_type": "code",
   "execution_count": 4,
   "id": "5424a7b2",
   "metadata": {},
   "outputs": [],
   "source": [
    "# QUESTION 2"
   ]
  },
  {
   "cell_type": "code",
   "execution_count": 5,
   "id": "27700145",
   "metadata": {},
   "outputs": [
    {
     "name": "stdout",
     "output_type": "stream",
     "text": [
      "Name is rahul\n",
      "Rame Is Rahul\n",
      "NAME IS RAHUL\n"
     ]
    }
   ],
   "source": [
    "s = \"name is rahul\"\n",
    "\n",
    "print(s.capitalize())\n",
    "\n",
    "str = s.title()\n",
    "s_list = list(str)\n",
    "s_list[0] = 'R'\n",
    "print(\"\".join(s_list))\n",
    "\n",
    "print(s.upper())"
   ]
  },
  {
   "cell_type": "code",
   "execution_count": null,
   "id": "d1d585d6",
   "metadata": {},
   "outputs": [],
   "source": []
  },
  {
   "cell_type": "code",
   "execution_count": 11,
   "id": "b714c21c",
   "metadata": {},
   "outputs": [],
   "source": [
    "# QUESTION 3"
   ]
  },
  {
   "cell_type": "code",
   "execution_count": 101,
   "id": "b8814ecc",
   "metadata": {},
   "outputs": [
    {
     "name": "stdout",
     "output_type": "stream",
     "text": [
      "Enter length: 10\n",
      "Enter breadth: 5\n",
      "Area: 50\n",
      "Perimeter: 30\n"
     ]
    }
   ],
   "source": [
    "length = int(input(\"Enter length: \"))\n",
    "breadth = int(input(\"Enter breadth: \"))\n",
    "area = length * breadth\n",
    "perimeter = 2 * (length + breadth)\n",
    "print(\"Area:\", area)\n",
    "print(\"Perimeter:\", perimeter)"
   ]
  },
  {
   "cell_type": "code",
   "execution_count": null,
   "id": "0e472a0a",
   "metadata": {},
   "outputs": [],
   "source": []
  },
  {
   "cell_type": "code",
   "execution_count": 17,
   "id": "7b0de431",
   "metadata": {},
   "outputs": [],
   "source": [
    "# QUESTION 4"
   ]
  },
  {
   "cell_type": "code",
   "execution_count": 6,
   "id": "573c4dde",
   "metadata": {},
   "outputs": [
    {
     "name": "stdout",
     "output_type": "stream",
     "text": [
      "Enter diameter: 50\n",
      "Circumference: 157.0\n",
      "Area: 1962.5\n"
     ]
    }
   ],
   "source": [
    "PI = 3.14\n",
    "diameter = int(input(\"Enter diameter: \"))\n",
    "radius = diameter / 2\n",
    "circumference = 2 * PI * radius\n",
    "area = PI * radius * radius\n",
    "print(\"Circumference:\", circumference)\n",
    "print(\"Area:\", area)"
   ]
  },
  {
   "cell_type": "code",
   "execution_count": null,
   "id": "16f26238",
   "metadata": {},
   "outputs": [],
   "source": []
  },
  {
   "cell_type": "code",
   "execution_count": 26,
   "id": "ffe8efee",
   "metadata": {},
   "outputs": [],
   "source": [
    "# QUESTION 5"
   ]
  },
  {
   "cell_type": "code",
   "execution_count": 24,
   "id": "94177ac5",
   "metadata": {},
   "outputs": [
    {
     "name": "stdout",
     "output_type": "stream",
     "text": [
      "a = 5\n",
      "b = 6\n",
      "c = 1\n",
      "Root 1: -0.2\n",
      "Root 2: -1.0\n"
     ]
    }
   ],
   "source": [
    "import math\n",
    "a = int(input(\"a = \"))\n",
    "b = int(input(\"b = \"))\n",
    "c = int(input(\"c = \"))\n",
    "res = (b*b) - (4*a*c)\n",
    "sqr = math.sqrt(res)\n",
    "ans1 = (-b+sqr) / (2*a)\n",
    "ans2 = (-b-sqr) /  (2*a)\n",
    "print(\"Root 1:\", ans1)\n",
    "print(\"Root 2:\", ans2)"
   ]
  },
  {
   "cell_type": "code",
   "execution_count": null,
   "id": "c707096f",
   "metadata": {},
   "outputs": [],
   "source": []
  },
  {
   "cell_type": "code",
   "execution_count": 27,
   "id": "c3010bee",
   "metadata": {},
   "outputs": [],
   "source": [
    "# QUESTION 6"
   ]
  },
  {
   "cell_type": "code",
   "execution_count": 7,
   "id": "c8c20c94",
   "metadata": {},
   "outputs": [
    {
     "name": "stdout",
     "output_type": "stream",
     "text": [
      "Enter radius: 5\n",
      "Volume of sphere: 523.3333333333334\n"
     ]
    }
   ],
   "source": [
    "PI = 3.14\n",
    "radius = int(input(\"Enter radius: \"))\n",
    "volume = (4/3) * PI * radius ** 3\n",
    "print(\"Volume of sphere:\", volume)"
   ]
  },
  {
   "cell_type": "code",
   "execution_count": null,
   "id": "91be2abe",
   "metadata": {},
   "outputs": [],
   "source": []
  },
  {
   "cell_type": "code",
   "execution_count": 30,
   "id": "19d861a2",
   "metadata": {},
   "outputs": [],
   "source": [
    "# QUESTION 7"
   ]
  },
  {
   "cell_type": "code",
   "execution_count": 9,
   "id": "f1993b58",
   "metadata": {
    "scrolled": true
   },
   "outputs": [
    {
     "name": "stdout",
     "output_type": "stream",
     "text": [
      "Enter the number: 3454\n",
      "No. of digits: 4\n"
     ]
    }
   ],
   "source": [
    "num = int(input(\"Enter the number: \"))\n",
    "count = 0\n",
    "while (num > 1):\n",
    "    num = num // 10\n",
    "    count += 1\n",
    "print(\"No. of digits:\", count)"
   ]
  },
  {
   "cell_type": "code",
   "execution_count": null,
   "id": "b8a5836f",
   "metadata": {},
   "outputs": [],
   "source": []
  },
  {
   "cell_type": "code",
   "execution_count": 50,
   "id": "f879e560",
   "metadata": {},
   "outputs": [],
   "source": [
    "# QUESTION 8"
   ]
  },
  {
   "cell_type": "code",
   "execution_count": 60,
   "id": "904dd2d5",
   "metadata": {},
   "outputs": [
    {
     "name": "stdout",
     "output_type": "stream",
     "text": [
      "Enter the string: have a good day.\n",
      "HAVE A GOOD DAY.\n"
     ]
    }
   ],
   "source": [
    "str = input(\"Enter the string: \")\n",
    "print(str.upper())"
   ]
  },
  {
   "cell_type": "code",
   "execution_count": null,
   "id": "563fee05",
   "metadata": {},
   "outputs": [],
   "source": []
  },
  {
   "cell_type": "code",
   "execution_count": 61,
   "id": "c83a40cf",
   "metadata": {},
   "outputs": [],
   "source": [
    "# QUESTION 9"
   ]
  },
  {
   "cell_type": "code",
   "execution_count": 12,
   "id": "87d70db2",
   "metadata": {},
   "outputs": [
    {
     "name": "stdout",
     "output_type": "stream",
     "text": [
      "Enter the string: hello\n",
      "Enter the index no.: 4\n",
      "Enter the character: l\n"
     ]
    },
    {
     "data": {
      "text/plain": [
       "'helll'"
      ]
     },
     "execution_count": 12,
     "metadata": {},
     "output_type": "execute_result"
    }
   ],
   "source": [
    "s = input(\"Enter the string: \")\n",
    "n = int(input(\"Enter the index no.: \"))\n",
    "c = input(\"Enter the character: \")\n",
    "s_list = list(s)\n",
    "s_list[n] = c\n",
    "\"\".join(s_list)"
   ]
  },
  {
   "cell_type": "code",
   "execution_count": null,
   "id": "0d91fede",
   "metadata": {},
   "outputs": [],
   "source": []
  },
  {
   "cell_type": "code",
   "execution_count": 67,
   "id": "66d15e0a",
   "metadata": {},
   "outputs": [],
   "source": [
    "# QUESTION 10"
   ]
  },
  {
   "cell_type": "code",
   "execution_count": 1,
   "id": "54b00ade",
   "metadata": {},
   "outputs": [
    {
     "name": "stdout",
     "output_type": "stream",
     "text": [
      "Enter the string: Python and Django\n",
      "Reversed string is: ognajD dna nohtyP\n"
     ]
    }
   ],
   "source": [
    "s = input(\"Enter the string: \")\n",
    "str = \"\"\n",
    "for i in s:\n",
    "    str = i + str\n",
    "print(\"Reversed string is:\", str)"
   ]
  },
  {
   "cell_type": "code",
   "execution_count": null,
   "id": "3705616b",
   "metadata": {},
   "outputs": [],
   "source": []
  }
 ],
 "metadata": {
  "kernelspec": {
   "display_name": "Python 3",
   "language": "python",
   "name": "python3"
  },
  "language_info": {
   "codemirror_mode": {
    "name": "ipython",
    "version": 3
   },
   "file_extension": ".py",
   "mimetype": "text/x-python",
   "name": "python",
   "nbconvert_exporter": "python",
   "pygments_lexer": "ipython3",
   "version": "3.9.5"
  }
 },
 "nbformat": 4,
 "nbformat_minor": 5
}
