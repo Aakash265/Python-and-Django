{
 "cells": [
  {
   "cell_type": "markdown",
   "id": "aa4fa750",
   "metadata": {},
   "source": [
    "### Question 1 :  Write a program to print all the natural numbers from 1 to n (user input). Then print the same in reverse order."
   ]
  },
  {
   "cell_type": "code",
   "execution_count": 166,
   "id": "5ad62e1b",
   "metadata": {},
   "outputs": [
    {
     "name": "stdout",
     "output_type": "stream",
     "text": [
      "Enter the value of n: 10\n",
      "1 2 3 4 5 6 7 8 9 10 \n",
      "Reverese Order: \n",
      "10 9 8 7 6 5 4 3 2 1 "
     ]
    }
   ],
   "source": [
    "n = int(input(\"Enter the value of n: \"))\n",
    "for i in range (n):\n",
    "    print(i+1, end = \" \")\n",
    "\n",
    "print()\n",
    "\n",
    "print(\"Reverese Order: \")\n",
    "for i in range(n):\n",
    "    print(n-i, end = \" \")"
   ]
  },
  {
   "cell_type": "markdown",
   "id": "f6fbbb13",
   "metadata": {},
   "source": [
    "###  Question 2 : Print all odd numbers and even numbers between 1 to 100."
   ]
  },
  {
   "cell_type": "code",
   "execution_count": 167,
   "id": "f04cc6ad",
   "metadata": {},
   "outputs": [
    {
     "name": "stdout",
     "output_type": "stream",
     "text": [
      "Odd nos. between 1 to 100: \n",
      "1 3 5 7 9 11 13 15 17 19 21 23 25 27 29 31 33 35 37 39 41 43 45 47 49 51 53 55 57 59 61 63 65 67 69 71 73 75 77 79 81 83 85 87 89 91 93 95 97 99 \n",
      "Even nos. between 1 to 100: \n",
      "2 4 6 8 10 12 14 16 18 20 22 24 26 28 30 32 34 36 38 40 42 44 46 48 50 52 54 56 58 60 62 64 66 68 70 72 74 76 78 80 82 84 86 88 90 92 94 96 98 100 "
     ]
    }
   ],
   "source": [
    "print(\"Odd nos. between 1 to 100: \")\n",
    "for i in range (1, 101):\n",
    "    if(i % 2 != 0):\n",
    "        print(i, end = \" \")\n",
    "\n",
    "print()\n",
    "print(\"Even nos. between 1 to 100: \")\n",
    "for i in range (1, 101):\n",
    "    if (i % 2 == 0):\n",
    "        print(i, end = \" \")"
   ]
  },
  {
   "cell_type": "markdown",
   "id": "feeb8235",
   "metadata": {},
   "source": [
    "### Question 3 : Write a program to check if a number is prime or not. Example: 7 ==> True, 6 ==> False"
   ]
  },
  {
   "cell_type": "code",
   "execution_count": 168,
   "id": "ab6ee5dc",
   "metadata": {},
   "outputs": [
    {
     "name": "stdout",
     "output_type": "stream",
     "text": [
      "Enter the number to check: 26\n",
      "False\n"
     ]
    }
   ],
   "source": [
    "num = int(input(\"Enter the number to check: \"))\n",
    "\n",
    "flag = True\n",
    "\n",
    "for i in range (2, num // 2):\n",
    "    if (num % i == 0):\n",
    "        print(not flag)\n",
    "        flag = False\n",
    "        break\n",
    "        \n",
    "if (flag == True):\n",
    "    print(flag)\n",
    "    \n",
    "# True = Prime, False = Not prime"
   ]
  },
  {
   "cell_type": "markdown",
   "id": "c630bac9",
   "metadata": {},
   "source": [
    "### Question 4 : Write a program that asks the user for a number n and prints the sum of the numbers 1 to n such that only multiples of three or five are considered in the sum, e.g. 3, 5, 6, 9, 10, 12, 15 for n=17."
   ]
  },
  {
   "cell_type": "code",
   "execution_count": 169,
   "id": "1579cd83",
   "metadata": {},
   "outputs": [
    {
     "name": "stdout",
     "output_type": "stream",
     "text": [
      "Enter the number: 17\n",
      "3 5 6 9 10 12 15 \n",
      "Sum: 60\n"
     ]
    }
   ],
   "source": [
    "n = int(input(\"Enter the number: \"))\n",
    "sum = 0\n",
    "\n",
    "for i in range (1, n):\n",
    "    if (i % 3 == 0 or i % 5 == 0):\n",
    "        sum += i\n",
    "        print(i, end = \" \")\n",
    "\n",
    "print()\n",
    "print(\"Sum:\", sum)"
   ]
  },
  {
   "cell_type": "markdown",
   "id": "07c7659c",
   "metadata": {},
   "source": [
    "### Question 5 : Write a program that asks the user for a number n and gives them the possibility to choose between computing the sum and computing the product of 1,…,n."
   ]
  },
  {
   "cell_type": "code",
   "execution_count": 170,
   "id": "e3a7f511",
   "metadata": {},
   "outputs": [
    {
     "name": "stdout",
     "output_type": "stream",
     "text": [
      "Enter the value of n: 5\n",
      "Press 1 for Sum\n",
      "Press 2 for Product\n",
      "Enter your choice (1/2): 2\n",
      "Product: 120\n"
     ]
    }
   ],
   "source": [
    "n = int(input(\"Enter the value of n: \"))\n",
    "\n",
    "print(\"Press 1 for Sum\")\n",
    "print(\"Press 2 for Product\")\n",
    "num = int(input(\"Enter your choice (1/2): \"))\n",
    "\n",
    "def add():\n",
    "    sum = 0\n",
    "    for i in range (1, n+1):\n",
    "        sum += i\n",
    "    print(\"Sum:\", sum)\n",
    "    \n",
    "def mul():\n",
    "    product = 1\n",
    "    for i in range (1, n+1):\n",
    "        product *= i\n",
    "    print(\"Product:\", product)\n",
    "\n",
    "if(num == 1):\n",
    "    add()\n",
    "    \n",
    "elif(num == 2):\n",
    "    mul()\n",
    "\n",
    "else:\n",
    "    print(\"Invalid input...\")"
   ]
  },
  {
   "cell_type": "markdown",
   "id": "25186e04",
   "metadata": {},
   "source": [
    "### Question 6 : Find the sum of all the multiples of 3 or 5 below 1000."
   ]
  },
  {
   "cell_type": "code",
   "execution_count": 171,
   "id": "ac90ea3d",
   "metadata": {},
   "outputs": [
    {
     "name": "stdout",
     "output_type": "stream",
     "text": [
      "Sum: 233168\n"
     ]
    }
   ],
   "source": [
    "n = 1000\n",
    "sum = 0\n",
    "for i in range(1000):\n",
    "    if (i % 3 == 0 or i % 5 == 0):\n",
    "        sum += i\n",
    "\n",
    "print(\"Sum:\", sum)"
   ]
  },
  {
   "cell_type": "markdown",
   "id": "7e8bdb5f",
   "metadata": {},
   "source": [
    "### Question 7 : Write a program which will find all such numbers which are divisible by 7 but are not a multiple of 5, between 2000 and 3200 (both included)."
   ]
  },
  {
   "cell_type": "code",
   "execution_count": 172,
   "id": "44e20f2c",
   "metadata": {},
   "outputs": [
    {
     "name": "stdout",
     "output_type": "stream",
     "text": [
      "2002 2009 2016 2023 2037 2044 2051 2058 2072 2079 2086 2093 2107 2114 2121 2128 2142 2149 2156 2163 2177 2184 2191 2198 2212 2219 2226 2233 2247 2254 2261 2268 2282 2289 2296 2303 2317 2324 2331 2338 2352 2359 2366 2373 2387 2394 2401 2408 2422 2429 2436 2443 2457 2464 2471 2478 2492 2499 2506 2513 2527 2534 2541 2548 2562 2569 2576 2583 2597 2604 2611 2618 2632 2639 2646 2653 2667 2674 2681 2688 2702 2709 2716 2723 2737 2744 2751 2758 2772 2779 2786 2793 2807 2814 2821 2828 2842 2849 2856 2863 2877 2884 2891 2898 2912 2919 2926 2933 2947 2954 2961 2968 2982 2989 2996 3003 3017 3024 3031 3038 3052 3059 3066 3073 3087 3094 3101 3108 3122 3129 3136 3143 3157 3164 3171 3178 3192 3199 "
     ]
    }
   ],
   "source": [
    "for i in range (2000, 3201):\n",
    "    if (i % 7 == 0 and i % 5 != 0):\n",
    "        print(i, end = \" \")"
   ]
  },
  {
   "cell_type": "markdown",
   "id": "f960667e",
   "metadata": {},
   "source": [
    "### Question 8 :  Find the difference between the sum of the squares of the first one hundred natural numbers and the square of the sum."
   ]
  },
  {
   "cell_type": "code",
   "execution_count": 173,
   "id": "a6f2da24",
   "metadata": {},
   "outputs": [
    {
     "name": "stdout",
     "output_type": "stream",
     "text": [
      "Difference is: 25164150\n"
     ]
    }
   ],
   "source": [
    "def sumOfSquare(sum):\n",
    "    for i in range (1, 101):\n",
    "        sum += (i**2)\n",
    "    return sum\n",
    "    \n",
    "def squareOfSum(sum):\n",
    "    for i in range (1, 101):\n",
    "        sum += i\n",
    "    sq = sum**2\n",
    "    return sq\n",
    "    \n",
    "def diff(a, s):\n",
    "    diff = b-a\n",
    "    print(\"Difference is:\", diff)\n",
    "\n",
    "sum = 0\n",
    "a = sumOfSquare(sum)\n",
    "b = squareOfSum(sum)\n",
    "diff(a, b)"
   ]
  },
  {
   "cell_type": "markdown",
   "id": "d46e0e25",
   "metadata": {},
   "source": [
    "### Question 9 : Write a program which can compute the factorial of a given number."
   ]
  },
  {
   "cell_type": "code",
   "execution_count": 174,
   "id": "12398e34",
   "metadata": {},
   "outputs": [
    {
     "name": "stdout",
     "output_type": "stream",
     "text": [
      "Enter the no.: 5\n",
      "Factorial of 5 is 120\n"
     ]
    }
   ],
   "source": [
    "n = int(input(\"Enter the no.: \"))\n",
    "\n",
    "fact = 1\n",
    "\n",
    "def factorial(fact):\n",
    "    if (n == 0):\n",
    "        print(\"Factorial of 0 is 1\")\n",
    "    \n",
    "    elif (n < 0):\n",
    "        print(\"Factorial of negative numbers cannot be calculated\")\n",
    "    \n",
    "    else:\n",
    "        for i in range (1, n+1):\n",
    "            fact *= i\n",
    "        print(\"Factorial of\", n, \"is\", fact)\n",
    "    \n",
    "factorial(fact)"
   ]
  },
  {
   "cell_type": "markdown",
   "id": "f37c985b",
   "metadata": {},
   "source": [
    "### Question 10 : Pattern :---\n",
    "```\n",
    "(i)\n",
    "    1\n",
    "\n",
    "    2 2\n",
    "    \n",
    "    3 3 3\n",
    "\n",
    "    4 4 4 4\n",
    "\n",
    "    5 5 5 5 5\n",
    "```"
   ]
  },
  {
   "cell_type": "code",
   "execution_count": 179,
   "id": "30575e65",
   "metadata": {},
   "outputs": [
    {
     "name": "stdout",
     "output_type": "stream",
     "text": [
      "1 \n",
      "\n",
      "2 2 \n",
      "\n",
      "3 3 3 \n",
      "\n",
      "4 4 4 4 \n",
      "\n",
      "5 5 5 5 5 \n",
      "\n"
     ]
    }
   ],
   "source": [
    "n = 5\n",
    "for i in range (n):\n",
    "    for j in range (i+1):\n",
    "        print(i+1, end = \" \")\n",
    "    print()\n",
    "    print()"
   ]
  },
  {
   "cell_type": "markdown",
   "id": "c5d1392b",
   "metadata": {},
   "source": [
    "(ii)\n",
    "```\n",
    "5 5 5 5 5 \n",
    "5 4 4 4 5 \n",
    "5 4 3 4 5 \n",
    "5 4 4 4 5 \n",
    "5 5 5 5 5\n",
    "\n",
    "```"
   ]
  },
  {
   "cell_type": "code",
   "execution_count": 180,
   "id": "d7d40d6e",
   "metadata": {},
   "outputs": [
    {
     "name": "stdout",
     "output_type": "stream",
     "text": [
      "5 5 5 5 5 \n",
      "5 4 4 4 5 \n",
      "5 4 3 4 5 \n",
      "5 4 4 4 5 \n",
      "5 5 5 5 5 \n"
     ]
    }
   ],
   "source": [
    "n = 5\n",
    "for i in range (n):\n",
    "    for j in range (n):\n",
    "        print(max(i+1,j+1, n-i, n-j), end = \" \")\n",
    "    print()"
   ]
  },
  {
   "cell_type": "markdown",
   "id": "ca55b05f",
   "metadata": {},
   "source": [
    "(iii)\n",
    "```\n",
    "* \n",
    "* * \n",
    "* * * \n",
    "* * * * \n",
    "* * * * *\n",
    "```"
   ]
  },
  {
   "cell_type": "code",
   "execution_count": 181,
   "id": "b493e26f",
   "metadata": {},
   "outputs": [
    {
     "name": "stdout",
     "output_type": "stream",
     "text": [
      "* \n",
      "* * \n",
      "* * * \n",
      "* * * * \n",
      "* * * * * \n"
     ]
    }
   ],
   "source": [
    "n = 5\n",
    "for i in range (n):\n",
    "    for j in range (i+1):\n",
    "        print(\"*\", end = \" \")\n",
    "    print()"
   ]
  },
  {
   "cell_type": "markdown",
   "id": "1d025ee4",
   "metadata": {},
   "source": [
    "(iv)\n",
    "```\n",
    "****\n",
    "***\n",
    "**\n",
    "*\n",
    "\n",
    "```"
   ]
  },
  {
   "cell_type": "code",
   "execution_count": 182,
   "id": "4f455349",
   "metadata": {},
   "outputs": [
    {
     "name": "stdout",
     "output_type": "stream",
     "text": [
      "****\n",
      "***\n",
      "**\n",
      "*\n"
     ]
    }
   ],
   "source": [
    "n = 4\n",
    "for i in range(n):\n",
    "    for j in range (n, i, -1):\n",
    "        print(\"*\", end = \"\")\n",
    "    print()"
   ]
  },
  {
   "cell_type": "markdown",
   "id": "f7beacf0",
   "metadata": {},
   "source": [
    "(v)\n",
    "```\n",
    "#####\n",
    "#####\n",
    "#####\n",
    "#####\n",
    "#####\n",
    "```"
   ]
  },
  {
   "cell_type": "code",
   "execution_count": 196,
   "id": "c01b06c9",
   "metadata": {},
   "outputs": [
    {
     "name": "stdout",
     "output_type": "stream",
     "text": [
      "#####\n",
      "#####\n",
      "#####\n",
      "#####\n",
      "#####\n"
     ]
    }
   ],
   "source": [
    "n = 5\n",
    "for i in range (n):\n",
    "    for j in range (n):\n",
    "        print(\"#\", end = \"\")\n",
    "    print()"
   ]
  },
  {
   "cell_type": "markdown",
   "id": "5fc27f4e",
   "metadata": {},
   "source": [
    "### Question 11 : Write a program that computes the value of a+aa+aaa+aaaa with a given digit as the value of a. Suppose the following input is supplied to the program: 9, Then, the output should be: 9 + 99 + 999 + 9999 =  11106."
   ]
  },
  {
   "cell_type": "code",
   "execution_count": 197,
   "id": "cd2d86ec",
   "metadata": {},
   "outputs": [
    {
     "name": "stdout",
     "output_type": "stream",
     "text": [
      "Enter the no.:9\n",
      "9 + 99 + 999 + 9999 = 11106\n"
     ]
    }
   ],
   "source": [
    "a = int(input(\"Enter the no.:\"))\n",
    "res = 0\n",
    "\n",
    "def add(a, res):\n",
    "    for i in range (1, 5):\n",
    "        res += int(f\"{a}\"*i)\n",
    "        print(f\"{a}\"*i, end = \" \")\n",
    "        if(i < 4):\n",
    "            print(\"+\", end = \" \")\n",
    "        else:\n",
    "            print(\"=\", end = \" \")\n",
    "    return res\n",
    "\n",
    "print(add(a, res))"
   ]
  },
  {
   "cell_type": "markdown",
   "id": "8b8f6b27",
   "metadata": {},
   "source": [
    "### Question 12 : Find the length of a string using loops (not len())."
   ]
  },
  {
   "cell_type": "code",
   "execution_count": 198,
   "id": "a9e5377f",
   "metadata": {},
   "outputs": [
    {
     "name": "stdout",
     "output_type": "stream",
     "text": [
      "Enter the string: Python and Django\n",
      "Length of string 'Python and Django' is: 17\n"
     ]
    }
   ],
   "source": [
    "s = input(\"Enter the string: \")\n",
    "\n",
    "size = 0\n",
    "\n",
    "for i in s:\n",
    "    size +=1\n",
    "\n",
    "print(f\"Length of string '{s}' is:\", size)"
   ]
  },
  {
   "cell_type": "markdown",
   "id": "2c9dceca",
   "metadata": {},
   "source": [
    "### Question 13: Write a program that accepts a sentence (string) and calculate the number of letters and digits. Example: ‘this is a test sentence number 389’ ==> letters = 25 and digits = 3."
   ]
  },
  {
   "cell_type": "code",
   "execution_count": 199,
   "id": "5a20f680",
   "metadata": {},
   "outputs": [
    {
     "name": "stdout",
     "output_type": "stream",
     "text": [
      "Enter the string: Aakash 265\n",
      "Number of letters is 6 and number of digits is 3\n"
     ]
    }
   ],
   "source": [
    "string = input(\"Enter the string: \")\n",
    "\n",
    "intCount = 0\n",
    "letterCount = 0\n",
    "\n",
    "for i in string:\n",
    "    if (i.isdigit()):\n",
    "        intCount += 1\n",
    "    elif (i.isalpha()):\n",
    "        letterCount += 1\n",
    "\n",
    "print(f\"Number of letters is {letterCount} and number of digits is {intCount}\")"
   ]
  },
  {
   "cell_type": "markdown",
   "id": "ef34df38",
   "metadata": {},
   "source": [
    "### Question 14 : Write a program that accepts a string and outputs the string with all capital letters. Example: ‘hello’ ==> ‘HELLO’. (using loop)"
   ]
  },
  {
   "cell_type": "code",
   "execution_count": 200,
   "id": "9bcb731d",
   "metadata": {},
   "outputs": [
    {
     "name": "stdout",
     "output_type": "stream",
     "text": [
      "Enter the string: Hello Everyone!!!\n",
      "HELLO EVERYONE!!!\n"
     ]
    }
   ],
   "source": [
    "string = input(\"Enter the string: \")\n",
    "str = \"\"\n",
    "\n",
    "for i in string:\n",
    "    if (i >= \"a\" and i <= \"z\"):\n",
    "        x = ord(i)\n",
    "        x -= 32\n",
    "        str += chr(x)\n",
    "    else:\n",
    "        str += i\n",
    "\n",
    "print(str)"
   ]
  },
  {
   "cell_type": "markdown",
   "id": "0890b63a",
   "metadata": {},
   "source": [
    "### Question 15 : Write a program that accepts a sentence and calculate the number of upper case letters and lower case letters."
   ]
  },
  {
   "cell_type": "code",
   "execution_count": 201,
   "id": "3237d598",
   "metadata": {},
   "outputs": [
    {
     "name": "stdout",
     "output_type": "stream",
     "text": [
      "Enter the sentence: Let's CODE\n",
      "The number of upper case letters is '5' and lower case letters is '3'\n"
     ]
    }
   ],
   "source": [
    "s = input(\"Enter the sentence: \")\n",
    "\n",
    "upper = 0\n",
    "lower = 0\n",
    "\n",
    "for i in s:\n",
    "    if (i.isupper()):\n",
    "        upper += 1\n",
    "    elif (i.islower()):\n",
    "        lower += 1\n",
    "        \n",
    "print(f\"The number of upper case letters is '{upper}' and lower case letters is '{lower}'\")"
   ]
  },
  {
   "cell_type": "markdown",
   "id": "fae4da39",
   "metadata": {},
   "source": [
    "### Question 16 :Write  a program that counts the occurrence of a character in a string. Example: ‘This is a test string.’ count of i = 3."
   ]
  },
  {
   "cell_type": "code",
   "execution_count": 202,
   "id": "58d2717f",
   "metadata": {},
   "outputs": [
    {
     "name": "stdout",
     "output_type": "stream",
     "text": [
      "Enter the string: Have a good day.\n",
      "Enter the character to check its occurences: a\n",
      "Count of 'a' = 3\n"
     ]
    }
   ],
   "source": [
    "s = input(\"Enter the string: \")\n",
    "ch = input(\"Enter the character to check its occurences: \")\n",
    "\n",
    "def count(s, ch):\n",
    "    chCount = 0\n",
    "    for i in s:\n",
    "        if (i == ch):\n",
    "            chCount += 1\n",
    "    return chCount\n",
    "\n",
    "print(f\"Count of '{ch}' =\", count(s, ch))"
   ]
  },
  {
   "cell_type": "markdown",
   "id": "087c5990",
   "metadata": {},
   "source": [
    "### Question 17 : Write a program to find if a given string is a palindrome or not."
   ]
  },
  {
   "cell_type": "code",
   "execution_count": 205,
   "id": "253087d2",
   "metadata": {},
   "outputs": [
    {
     "name": "stdout",
     "output_type": "stream",
     "text": [
      "Enter the string: racecar\n",
      "'racecar' is a palindrome\n"
     ]
    }
   ],
   "source": [
    "string = input(\"Enter the string: \")\n",
    "\n",
    "if (string == string[::-1]):\n",
    "    print(f\"'{string}' is a palindrome\")\n",
    "else:\n",
    "    print(f\"'{string}' is not a palindrome\")"
   ]
  },
  {
   "cell_type": "markdown",
   "id": "5e4db321",
   "metadata": {},
   "source": [
    "### Question 18 : Write a program which accepts two strings s1 and s2 and checks if s2 is a substring of s1"
   ]
  },
  {
   "cell_type": "code",
   "execution_count": 206,
   "id": "949e4550",
   "metadata": {},
   "outputs": [
    {
     "name": "stdout",
     "output_type": "stream",
     "text": [
      "Enter the string: Adventure\n",
      "Enter the substring: vent\n",
      "Is 'vent' a substring of 'Adventure'? : True\n"
     ]
    }
   ],
   "source": [
    "s1 = input(\"Enter the string: \")\n",
    "s2 = input(\"Enter the substring: \")\n",
    "\n",
    "def check(s1, s2)    :\n",
    "    if s2 in s1:\n",
    "        return True\n",
    "    else:\n",
    "        return False\n",
    "    \n",
    "print(f\"Is '{s2}' a substring of '{s1}'? :\", check(s1, s2))"
   ]
  },
  {
   "cell_type": "markdown",
   "id": "f92f4898",
   "metadata": {},
   "source": [
    "### Question 19 : Make a password validator with the following checks. A website requires the users to input username and password to register. Write a program to check the validity of password input by users.\n",
    "\n",
    "Following are the criteria for checking the password:\n",
    "1. At least  1 letter between [a-z]     \n",
    "2. At least 1 number between [0-9]     \n",
    "3. At least 1 letter between [@$#%&]"
   ]
  },
  {
   "cell_type": "code",
   "execution_count": 207,
   "id": "0ccfc71d",
   "metadata": {},
   "outputs": [
    {
     "name": "stdout",
     "output_type": "stream",
     "text": [
      "Enter password: aakash@26#\n",
      "Valid password\n"
     ]
    }
   ],
   "source": [
    "pwd = input(\"Enter password: \")\n",
    "\n",
    "def valid(pwd):\n",
    "    count_a = 0\n",
    "    count_1 = 0\n",
    "    count = 0\n",
    "    for i in pwd:\n",
    "        if (i >= 'a' and i <= 'z'):\n",
    "            count_a += 1\n",
    "        elif (i >= '0' and i <= '9'):\n",
    "            count_1 += 1\n",
    "        elif ((i >= '#' and i <= '&') or i == \"@\"):\n",
    "            count += 1\n",
    "    \n",
    "    if (count_a >= 1 and count_1 >= 1 and count >=1):\n",
    "        print(\"Valid password\")\n",
    "    else:\n",
    "        print(\"Invalid password. Please enter again\")\n",
    "\n",
    "valid(pwd)"
   ]
  },
  {
   "cell_type": "markdown",
   "id": "82b75fe1",
   "metadata": {},
   "source": [
    "### Question 20 : s = \"Hello how are you all\". For this given string write a code such that it prints the vowels present in the string s if any. ex: \"i\", \"a\" etc."
   ]
  },
  {
   "cell_type": "code",
   "execution_count": 208,
   "id": "eeff3511",
   "metadata": {},
   "outputs": [
    {
     "name": "stdout",
     "output_type": "stream",
     "text": [
      "Vowels are: e o a u "
     ]
    }
   ],
   "source": [
    "s = \"Hello how are you all\"\n",
    "vow = []\n",
    "vowels = \"aAeEiIoOuU\"\n",
    "\n",
    "for i in s:\n",
    "    if (i in vowels and i not in vow):\n",
    "        vow.append(i)\n",
    "\n",
    "if (len(vow) > 0):\n",
    "    print(\"Vowels are\", end = \": \")\n",
    "    for vowels in vow:\n",
    "        print(vowels, end = \" \")\n",
    "else:\n",
    "    print(\"There are no vowels.\")"
   ]
  },
  {
   "cell_type": "code",
   "execution_count": null,
   "id": "4e4165bb",
   "metadata": {},
   "outputs": [],
   "source": []
  }
 ],
 "metadata": {
  "kernelspec": {
   "display_name": "Python 3",
   "language": "python",
   "name": "python3"
  },
  "language_info": {
   "codemirror_mode": {
    "name": "ipython",
    "version": 3
   },
   "file_extension": ".py",
   "mimetype": "text/x-python",
   "name": "python",
   "nbconvert_exporter": "python",
   "pygments_lexer": "ipython3",
   "version": "3.9.5"
  }
 },
 "nbformat": 4,
 "nbformat_minor": 5
}
